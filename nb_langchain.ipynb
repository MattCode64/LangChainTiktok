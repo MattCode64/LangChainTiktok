{
 "cells": [
  {
   "cell_type": "code",
   "outputs": [
    {
     "ename": "AttributeError",
     "evalue": "partially initialized module 'langchain' has no attribute 'verbose' (most likely due to a circular import)",
     "output_type": "error",
     "traceback": [
      "\u001B[0;31m---------------------------------------------------------------------------\u001B[0m",
      "\u001B[0;31mAttributeError\u001B[0m                            Traceback (most recent call last)",
      "Cell \u001B[0;32mIn[5], line 1\u001B[0m\n\u001B[0;32m----> 1\u001B[0m \u001B[38;5;28;01mimport\u001B[39;00m \u001B[38;5;21;01mlangchain\u001B[39;00m\n\u001B[1;32m      2\u001B[0m langchain\u001B[38;5;241m.\u001B[39mverbose \u001B[38;5;241m=\u001B[39m \u001B[38;5;28;01mFalse\u001B[39;00m\n",
      "File \u001B[0;32m~/UbuntuData/PycharmProjects/LangChainTiktok/langchain.py:3\u001B[0m\n\u001B[1;32m      1\u001B[0m \u001B[38;5;28;01mfrom\u001B[39;00m \u001B[38;5;21;01mlangchain_community\u001B[39;00m\u001B[38;5;21;01m.\u001B[39;00m\u001B[38;5;21;01mllms\u001B[39;00m \u001B[38;5;28;01mimport\u001B[39;00m Ollama\n\u001B[0;32m----> 3\u001B[0m llm \u001B[38;5;241m=\u001B[39m \u001B[43mOllama\u001B[49m\u001B[43m(\u001B[49m\u001B[43mmodel\u001B[49m\u001B[38;5;241;43m=\u001B[39;49m\u001B[38;5;124;43m\"\u001B[39;49m\u001B[38;5;124;43mllama2\u001B[39;49m\u001B[38;5;124;43m\"\u001B[39;49m\u001B[43m)\u001B[49m\n\u001B[1;32m      5\u001B[0m llm\u001B[38;5;241m.\u001B[39minvoke(\u001B[38;5;124m\"\u001B[39m\u001B[38;5;124mHello, give me 3 nicknames for my pet\u001B[39m\u001B[38;5;124m\"\u001B[39m)\n",
      "File \u001B[0;32m~/UbuntuData/PycharmProjects/LangChainTiktok/.venv/lib/python3.10/site-packages/langchain_core/load/serializable.py:120\u001B[0m, in \u001B[0;36mSerializable.__init__\u001B[0;34m(self, **kwargs)\u001B[0m\n\u001B[1;32m    119\u001B[0m \u001B[38;5;28;01mdef\u001B[39;00m \u001B[38;5;21m__init__\u001B[39m(\u001B[38;5;28mself\u001B[39m, \u001B[38;5;241m*\u001B[39m\u001B[38;5;241m*\u001B[39mkwargs: Any) \u001B[38;5;241m-\u001B[39m\u001B[38;5;241m>\u001B[39m \u001B[38;5;28;01mNone\u001B[39;00m:\n\u001B[0;32m--> 120\u001B[0m     \u001B[38;5;28;43msuper\u001B[39;49m\u001B[43m(\u001B[49m\u001B[43m)\u001B[49m\u001B[38;5;241;43m.\u001B[39;49m\u001B[38;5;21;43m__init__\u001B[39;49m\u001B[43m(\u001B[49m\u001B[38;5;241;43m*\u001B[39;49m\u001B[38;5;241;43m*\u001B[39;49m\u001B[43mkwargs\u001B[49m\u001B[43m)\u001B[49m\n\u001B[1;32m    121\u001B[0m     \u001B[38;5;28mself\u001B[39m\u001B[38;5;241m.\u001B[39m_lc_kwargs \u001B[38;5;241m=\u001B[39m kwargs\n",
      "File \u001B[0;32m~/UbuntuData/PycharmProjects/LangChainTiktok/.venv/lib/python3.10/site-packages/pydantic/v1/main.py:339\u001B[0m, in \u001B[0;36mBaseModel.__init__\u001B[0;34m(__pydantic_self__, **data)\u001B[0m\n\u001B[1;32m    333\u001B[0m \u001B[38;5;250m\u001B[39m\u001B[38;5;124;03m\"\"\"\u001B[39;00m\n\u001B[1;32m    334\u001B[0m \u001B[38;5;124;03mCreate a new model by parsing and validating input data from keyword arguments.\u001B[39;00m\n\u001B[1;32m    335\u001B[0m \n\u001B[1;32m    336\u001B[0m \u001B[38;5;124;03mRaises ValidationError if the input data cannot be parsed to form a valid model.\u001B[39;00m\n\u001B[1;32m    337\u001B[0m \u001B[38;5;124;03m\"\"\"\u001B[39;00m\n\u001B[1;32m    338\u001B[0m \u001B[38;5;66;03m# Uses something other than `self` the first arg to allow \"self\" as a settable attribute\u001B[39;00m\n\u001B[0;32m--> 339\u001B[0m values, fields_set, validation_error \u001B[38;5;241m=\u001B[39m \u001B[43mvalidate_model\u001B[49m\u001B[43m(\u001B[49m\u001B[43m__pydantic_self__\u001B[49m\u001B[38;5;241;43m.\u001B[39;49m\u001B[38;5;18;43m__class__\u001B[39;49m\u001B[43m,\u001B[49m\u001B[43m \u001B[49m\u001B[43mdata\u001B[49m\u001B[43m)\u001B[49m\n\u001B[1;32m    340\u001B[0m \u001B[38;5;28;01mif\u001B[39;00m validation_error:\n\u001B[1;32m    341\u001B[0m     \u001B[38;5;28;01mraise\u001B[39;00m validation_error\n",
      "File \u001B[0;32m~/UbuntuData/PycharmProjects/LangChainTiktok/.venv/lib/python3.10/site-packages/pydantic/v1/main.py:1064\u001B[0m, in \u001B[0;36mvalidate_model\u001B[0;34m(model, input_data, cls)\u001B[0m\n\u001B[1;32m   1061\u001B[0m     errors\u001B[38;5;241m.\u001B[39mappend(ErrorWrapper(MissingError(), loc\u001B[38;5;241m=\u001B[39mfield\u001B[38;5;241m.\u001B[39malias))\n\u001B[1;32m   1062\u001B[0m     \u001B[38;5;28;01mcontinue\u001B[39;00m\n\u001B[0;32m-> 1064\u001B[0m value \u001B[38;5;241m=\u001B[39m \u001B[43mfield\u001B[49m\u001B[38;5;241;43m.\u001B[39;49m\u001B[43mget_default\u001B[49m\u001B[43m(\u001B[49m\u001B[43m)\u001B[49m\n\u001B[1;32m   1066\u001B[0m \u001B[38;5;28;01mif\u001B[39;00m \u001B[38;5;129;01mnot\u001B[39;00m config\u001B[38;5;241m.\u001B[39mvalidate_all \u001B[38;5;129;01mand\u001B[39;00m \u001B[38;5;129;01mnot\u001B[39;00m field\u001B[38;5;241m.\u001B[39mvalidate_always:\n\u001B[1;32m   1067\u001B[0m     values[name] \u001B[38;5;241m=\u001B[39m value\n",
      "File \u001B[0;32m~/UbuntuData/PycharmProjects/LangChainTiktok/.venv/lib/python3.10/site-packages/pydantic/v1/fields.py:437\u001B[0m, in \u001B[0;36mModelField.get_default\u001B[0;34m(self)\u001B[0m\n\u001B[1;32m    436\u001B[0m \u001B[38;5;28;01mdef\u001B[39;00m \u001B[38;5;21mget_default\u001B[39m(\u001B[38;5;28mself\u001B[39m) \u001B[38;5;241m-\u001B[39m\u001B[38;5;241m>\u001B[39m Any:\n\u001B[0;32m--> 437\u001B[0m     \u001B[38;5;28;01mreturn\u001B[39;00m smart_deepcopy(\u001B[38;5;28mself\u001B[39m\u001B[38;5;241m.\u001B[39mdefault) \u001B[38;5;28;01mif\u001B[39;00m \u001B[38;5;28mself\u001B[39m\u001B[38;5;241m.\u001B[39mdefault_factory \u001B[38;5;129;01mis\u001B[39;00m \u001B[38;5;28;01mNone\u001B[39;00m \u001B[38;5;28;01melse\u001B[39;00m \u001B[38;5;28;43mself\u001B[39;49m\u001B[38;5;241;43m.\u001B[39;49m\u001B[43mdefault_factory\u001B[49m\u001B[43m(\u001B[49m\u001B[43m)\u001B[49m\n",
      "File \u001B[0;32m~/UbuntuData/PycharmProjects/LangChainTiktok/.venv/lib/python3.10/site-packages/langchain_core/language_models/llms.py:69\u001B[0m, in \u001B[0;36m_get_verbosity\u001B[0;34m()\u001B[0m\n\u001B[1;32m     66\u001B[0m \u001B[38;5;28;01mdef\u001B[39;00m \u001B[38;5;21m_get_verbosity\u001B[39m() \u001B[38;5;241m-\u001B[39m\u001B[38;5;241m>\u001B[39m \u001B[38;5;28mbool\u001B[39m:\n\u001B[1;32m     67\u001B[0m     \u001B[38;5;28;01mfrom\u001B[39;00m \u001B[38;5;21;01mlangchain_core\u001B[39;00m\u001B[38;5;21;01m.\u001B[39;00m\u001B[38;5;21;01mglobals\u001B[39;00m \u001B[38;5;28;01mimport\u001B[39;00m get_verbose\n\u001B[0;32m---> 69\u001B[0m     \u001B[38;5;28;01mreturn\u001B[39;00m \u001B[43mget_verbose\u001B[49m\u001B[43m(\u001B[49m\u001B[43m)\u001B[49m\n",
      "File \u001B[0;32m~/UbuntuData/PycharmProjects/LangChainTiktok/.venv/lib/python3.10/site-packages/langchain_core/globals/__init__.py:72\u001B[0m, in \u001B[0;36mget_verbose\u001B[0;34m()\u001B[0m\n\u001B[1;32m     55\u001B[0m         warnings\u001B[38;5;241m.\u001B[39mfilterwarnings(\n\u001B[1;32m     56\u001B[0m             \u001B[38;5;124m\"\u001B[39m\u001B[38;5;124mignore\u001B[39m\u001B[38;5;124m\"\u001B[39m,\n\u001B[1;32m     57\u001B[0m             message\u001B[38;5;241m=\u001B[39m(\n\u001B[1;32m     58\u001B[0m                 \u001B[38;5;124m\"\u001B[39m\u001B[38;5;124m.*Importing verbose from langchain root module is no longer supported\u001B[39m\u001B[38;5;124m\"\u001B[39m\n\u001B[1;32m     59\u001B[0m             ),\n\u001B[1;32m     60\u001B[0m         )\n\u001B[1;32m     61\u001B[0m         \u001B[38;5;66;03m# N.B.: This is a workaround for an unfortunate quirk of Python's\u001B[39;00m\n\u001B[1;32m     62\u001B[0m         \u001B[38;5;66;03m#       module-level `__getattr__()` implementation:\u001B[39;00m\n\u001B[1;32m     63\u001B[0m         \u001B[38;5;66;03m# https://github.com/langchain-ai/langchain/pull/11311#issuecomment-1743780004\u001B[39;00m\n\u001B[0;32m   (...)\u001B[0m\n\u001B[1;32m     70\u001B[0m         \u001B[38;5;66;03m# to using `set_verbose()` yet. Those users are getting deprecation warnings\u001B[39;00m\n\u001B[1;32m     71\u001B[0m         \u001B[38;5;66;03m# directing them to use `set_verbose()` when they import `langhchain.verbose`.\u001B[39;00m\n\u001B[0;32m---> 72\u001B[0m         old_verbose \u001B[38;5;241m=\u001B[39m \u001B[43mlangchain\u001B[49m\u001B[38;5;241;43m.\u001B[39;49m\u001B[43mverbose\u001B[49m\n\u001B[1;32m     73\u001B[0m \u001B[38;5;28;01mexcept\u001B[39;00m \u001B[38;5;167;01mImportError\u001B[39;00m:\n\u001B[1;32m     74\u001B[0m     old_verbose \u001B[38;5;241m=\u001B[39m \u001B[38;5;28;01mFalse\u001B[39;00m\n",
      "\u001B[0;31mAttributeError\u001B[0m: partially initialized module 'langchain' has no attribute 'verbose' (most likely due to a circular import)"
     ]
    }
   ],
   "source": [
    "import langchain\n",
    "langchain.verbose = False"
   ],
   "metadata": {
    "collapsed": false,
    "ExecuteTime": {
     "end_time": "2024-03-19T17:19:16.863825Z",
     "start_time": "2024-03-19T17:19:16.806164Z"
    }
   },
   "id": "b1db37a3361d8d70",
   "execution_count": 5
  },
  {
   "cell_type": "code",
   "execution_count": 6,
   "id": "initial_id",
   "metadata": {
    "collapsed": true,
    "ExecuteTime": {
     "end_time": "2024-03-19T17:21:27.906088Z",
     "start_time": "2024-03-19T17:21:27.902929Z"
    }
   },
   "outputs": [],
   "source": [
    "from langchain_community.llms import Ollama"
   ]
  },
  {
   "cell_type": "code",
   "outputs": [
    {
     "ename": "AttributeError",
     "evalue": "partially initialized module 'langchain' has no attribute 'verbose' (most likely due to a circular import)",
     "output_type": "error",
     "traceback": [
      "\u001B[0;31m---------------------------------------------------------------------------\u001B[0m",
      "\u001B[0;31mAttributeError\u001B[0m                            Traceback (most recent call last)",
      "Cell \u001B[0;32mIn[7], line 1\u001B[0m\n\u001B[0;32m----> 1\u001B[0m ollama \u001B[38;5;241m=\u001B[39m \u001B[43mOllama\u001B[49m\u001B[43m(\u001B[49m\u001B[43mmodel\u001B[49m\u001B[38;5;241;43m=\u001B[39;49m\u001B[38;5;124;43m\"\u001B[39;49m\u001B[38;5;124;43mllama2\u001B[39;49m\u001B[38;5;124;43m\"\u001B[39;49m\u001B[43m)\u001B[49m\n",
      "File \u001B[0;32m~/UbuntuData/PycharmProjects/LangChainTiktok/.venv/lib/python3.10/site-packages/langchain_core/load/serializable.py:120\u001B[0m, in \u001B[0;36mSerializable.__init__\u001B[0;34m(self, **kwargs)\u001B[0m\n\u001B[1;32m    119\u001B[0m \u001B[38;5;28;01mdef\u001B[39;00m \u001B[38;5;21m__init__\u001B[39m(\u001B[38;5;28mself\u001B[39m, \u001B[38;5;241m*\u001B[39m\u001B[38;5;241m*\u001B[39mkwargs: Any) \u001B[38;5;241m-\u001B[39m\u001B[38;5;241m>\u001B[39m \u001B[38;5;28;01mNone\u001B[39;00m:\n\u001B[0;32m--> 120\u001B[0m     \u001B[38;5;28;43msuper\u001B[39;49m\u001B[43m(\u001B[49m\u001B[43m)\u001B[49m\u001B[38;5;241;43m.\u001B[39;49m\u001B[38;5;21;43m__init__\u001B[39;49m\u001B[43m(\u001B[49m\u001B[38;5;241;43m*\u001B[39;49m\u001B[38;5;241;43m*\u001B[39;49m\u001B[43mkwargs\u001B[49m\u001B[43m)\u001B[49m\n\u001B[1;32m    121\u001B[0m     \u001B[38;5;28mself\u001B[39m\u001B[38;5;241m.\u001B[39m_lc_kwargs \u001B[38;5;241m=\u001B[39m kwargs\n",
      "File \u001B[0;32m~/UbuntuData/PycharmProjects/LangChainTiktok/.venv/lib/python3.10/site-packages/pydantic/v1/main.py:339\u001B[0m, in \u001B[0;36mBaseModel.__init__\u001B[0;34m(__pydantic_self__, **data)\u001B[0m\n\u001B[1;32m    333\u001B[0m \u001B[38;5;250m\u001B[39m\u001B[38;5;124;03m\"\"\"\u001B[39;00m\n\u001B[1;32m    334\u001B[0m \u001B[38;5;124;03mCreate a new model by parsing and validating input data from keyword arguments.\u001B[39;00m\n\u001B[1;32m    335\u001B[0m \n\u001B[1;32m    336\u001B[0m \u001B[38;5;124;03mRaises ValidationError if the input data cannot be parsed to form a valid model.\u001B[39;00m\n\u001B[1;32m    337\u001B[0m \u001B[38;5;124;03m\"\"\"\u001B[39;00m\n\u001B[1;32m    338\u001B[0m \u001B[38;5;66;03m# Uses something other than `self` the first arg to allow \"self\" as a settable attribute\u001B[39;00m\n\u001B[0;32m--> 339\u001B[0m values, fields_set, validation_error \u001B[38;5;241m=\u001B[39m \u001B[43mvalidate_model\u001B[49m\u001B[43m(\u001B[49m\u001B[43m__pydantic_self__\u001B[49m\u001B[38;5;241;43m.\u001B[39;49m\u001B[38;5;18;43m__class__\u001B[39;49m\u001B[43m,\u001B[49m\u001B[43m \u001B[49m\u001B[43mdata\u001B[49m\u001B[43m)\u001B[49m\n\u001B[1;32m    340\u001B[0m \u001B[38;5;28;01mif\u001B[39;00m validation_error:\n\u001B[1;32m    341\u001B[0m     \u001B[38;5;28;01mraise\u001B[39;00m validation_error\n",
      "File \u001B[0;32m~/UbuntuData/PycharmProjects/LangChainTiktok/.venv/lib/python3.10/site-packages/pydantic/v1/main.py:1064\u001B[0m, in \u001B[0;36mvalidate_model\u001B[0;34m(model, input_data, cls)\u001B[0m\n\u001B[1;32m   1061\u001B[0m     errors\u001B[38;5;241m.\u001B[39mappend(ErrorWrapper(MissingError(), loc\u001B[38;5;241m=\u001B[39mfield\u001B[38;5;241m.\u001B[39malias))\n\u001B[1;32m   1062\u001B[0m     \u001B[38;5;28;01mcontinue\u001B[39;00m\n\u001B[0;32m-> 1064\u001B[0m value \u001B[38;5;241m=\u001B[39m \u001B[43mfield\u001B[49m\u001B[38;5;241;43m.\u001B[39;49m\u001B[43mget_default\u001B[49m\u001B[43m(\u001B[49m\u001B[43m)\u001B[49m\n\u001B[1;32m   1066\u001B[0m \u001B[38;5;28;01mif\u001B[39;00m \u001B[38;5;129;01mnot\u001B[39;00m config\u001B[38;5;241m.\u001B[39mvalidate_all \u001B[38;5;129;01mand\u001B[39;00m \u001B[38;5;129;01mnot\u001B[39;00m field\u001B[38;5;241m.\u001B[39mvalidate_always:\n\u001B[1;32m   1067\u001B[0m     values[name] \u001B[38;5;241m=\u001B[39m value\n",
      "File \u001B[0;32m~/UbuntuData/PycharmProjects/LangChainTiktok/.venv/lib/python3.10/site-packages/pydantic/v1/fields.py:437\u001B[0m, in \u001B[0;36mModelField.get_default\u001B[0;34m(self)\u001B[0m\n\u001B[1;32m    436\u001B[0m \u001B[38;5;28;01mdef\u001B[39;00m \u001B[38;5;21mget_default\u001B[39m(\u001B[38;5;28mself\u001B[39m) \u001B[38;5;241m-\u001B[39m\u001B[38;5;241m>\u001B[39m Any:\n\u001B[0;32m--> 437\u001B[0m     \u001B[38;5;28;01mreturn\u001B[39;00m smart_deepcopy(\u001B[38;5;28mself\u001B[39m\u001B[38;5;241m.\u001B[39mdefault) \u001B[38;5;28;01mif\u001B[39;00m \u001B[38;5;28mself\u001B[39m\u001B[38;5;241m.\u001B[39mdefault_factory \u001B[38;5;129;01mis\u001B[39;00m \u001B[38;5;28;01mNone\u001B[39;00m \u001B[38;5;28;01melse\u001B[39;00m \u001B[38;5;28;43mself\u001B[39;49m\u001B[38;5;241;43m.\u001B[39;49m\u001B[43mdefault_factory\u001B[49m\u001B[43m(\u001B[49m\u001B[43m)\u001B[49m\n",
      "File \u001B[0;32m~/UbuntuData/PycharmProjects/LangChainTiktok/.venv/lib/python3.10/site-packages/langchain_core/language_models/llms.py:69\u001B[0m, in \u001B[0;36m_get_verbosity\u001B[0;34m()\u001B[0m\n\u001B[1;32m     66\u001B[0m \u001B[38;5;28;01mdef\u001B[39;00m \u001B[38;5;21m_get_verbosity\u001B[39m() \u001B[38;5;241m-\u001B[39m\u001B[38;5;241m>\u001B[39m \u001B[38;5;28mbool\u001B[39m:\n\u001B[1;32m     67\u001B[0m     \u001B[38;5;28;01mfrom\u001B[39;00m \u001B[38;5;21;01mlangchain_core\u001B[39;00m\u001B[38;5;21;01m.\u001B[39;00m\u001B[38;5;21;01mglobals\u001B[39;00m \u001B[38;5;28;01mimport\u001B[39;00m get_verbose\n\u001B[0;32m---> 69\u001B[0m     \u001B[38;5;28;01mreturn\u001B[39;00m \u001B[43mget_verbose\u001B[49m\u001B[43m(\u001B[49m\u001B[43m)\u001B[49m\n",
      "File \u001B[0;32m~/UbuntuData/PycharmProjects/LangChainTiktok/.venv/lib/python3.10/site-packages/langchain_core/globals/__init__.py:50\u001B[0m, in \u001B[0;36mget_verbose\u001B[0;34m()\u001B[0m\n\u001B[1;32m     48\u001B[0m \u001B[38;5;250m\u001B[39m\u001B[38;5;124;03m\"\"\"Get the value of the `verbose` global setting.\"\"\"\u001B[39;00m\n\u001B[1;32m     49\u001B[0m \u001B[38;5;28;01mtry\u001B[39;00m:\n\u001B[0;32m---> 50\u001B[0m     \u001B[38;5;28;01mimport\u001B[39;00m \u001B[38;5;21;01mlangchain\u001B[39;00m  \u001B[38;5;66;03m# type: ignore[import]\u001B[39;00m\n\u001B[1;32m     52\u001B[0m     \u001B[38;5;66;03m# We're about to run some deprecated code, don't report warnings from it.\u001B[39;00m\n\u001B[1;32m     53\u001B[0m     \u001B[38;5;66;03m# The user called the correct (non-deprecated) code path and shouldn't get warnings.\u001B[39;00m\n\u001B[1;32m     54\u001B[0m     \u001B[38;5;28;01mwith\u001B[39;00m warnings\u001B[38;5;241m.\u001B[39mcatch_warnings():\n",
      "File \u001B[0;32m~/UbuntuData/PycharmProjects/LangChainTiktok/langchain.py:3\u001B[0m\n\u001B[1;32m      1\u001B[0m \u001B[38;5;28;01mfrom\u001B[39;00m \u001B[38;5;21;01mlangchain_community\u001B[39;00m\u001B[38;5;21;01m.\u001B[39;00m\u001B[38;5;21;01mllms\u001B[39;00m \u001B[38;5;28;01mimport\u001B[39;00m Ollama\n\u001B[0;32m----> 3\u001B[0m llm \u001B[38;5;241m=\u001B[39m \u001B[43mOllama\u001B[49m\u001B[43m(\u001B[49m\u001B[43mmodel\u001B[49m\u001B[38;5;241;43m=\u001B[39;49m\u001B[38;5;124;43m\"\u001B[39;49m\u001B[38;5;124;43mllama2\u001B[39;49m\u001B[38;5;124;43m\"\u001B[39;49m\u001B[43m)\u001B[49m\n\u001B[1;32m      5\u001B[0m llm\u001B[38;5;241m.\u001B[39minvoke(\u001B[38;5;124m\"\u001B[39m\u001B[38;5;124mHello, give me 3 nicknames for my pet\u001B[39m\u001B[38;5;124m\"\u001B[39m)\n",
      "File \u001B[0;32m~/UbuntuData/PycharmProjects/LangChainTiktok/.venv/lib/python3.10/site-packages/langchain_core/load/serializable.py:120\u001B[0m, in \u001B[0;36mSerializable.__init__\u001B[0;34m(self, **kwargs)\u001B[0m\n\u001B[1;32m    119\u001B[0m \u001B[38;5;28;01mdef\u001B[39;00m \u001B[38;5;21m__init__\u001B[39m(\u001B[38;5;28mself\u001B[39m, \u001B[38;5;241m*\u001B[39m\u001B[38;5;241m*\u001B[39mkwargs: Any) \u001B[38;5;241m-\u001B[39m\u001B[38;5;241m>\u001B[39m \u001B[38;5;28;01mNone\u001B[39;00m:\n\u001B[0;32m--> 120\u001B[0m     \u001B[38;5;28;43msuper\u001B[39;49m\u001B[43m(\u001B[49m\u001B[43m)\u001B[49m\u001B[38;5;241;43m.\u001B[39;49m\u001B[38;5;21;43m__init__\u001B[39;49m\u001B[43m(\u001B[49m\u001B[38;5;241;43m*\u001B[39;49m\u001B[38;5;241;43m*\u001B[39;49m\u001B[43mkwargs\u001B[49m\u001B[43m)\u001B[49m\n\u001B[1;32m    121\u001B[0m     \u001B[38;5;28mself\u001B[39m\u001B[38;5;241m.\u001B[39m_lc_kwargs \u001B[38;5;241m=\u001B[39m kwargs\n",
      "File \u001B[0;32m~/UbuntuData/PycharmProjects/LangChainTiktok/.venv/lib/python3.10/site-packages/pydantic/v1/main.py:339\u001B[0m, in \u001B[0;36mBaseModel.__init__\u001B[0;34m(__pydantic_self__, **data)\u001B[0m\n\u001B[1;32m    333\u001B[0m \u001B[38;5;250m\u001B[39m\u001B[38;5;124;03m\"\"\"\u001B[39;00m\n\u001B[1;32m    334\u001B[0m \u001B[38;5;124;03mCreate a new model by parsing and validating input data from keyword arguments.\u001B[39;00m\n\u001B[1;32m    335\u001B[0m \n\u001B[1;32m    336\u001B[0m \u001B[38;5;124;03mRaises ValidationError if the input data cannot be parsed to form a valid model.\u001B[39;00m\n\u001B[1;32m    337\u001B[0m \u001B[38;5;124;03m\"\"\"\u001B[39;00m\n\u001B[1;32m    338\u001B[0m \u001B[38;5;66;03m# Uses something other than `self` the first arg to allow \"self\" as a settable attribute\u001B[39;00m\n\u001B[0;32m--> 339\u001B[0m values, fields_set, validation_error \u001B[38;5;241m=\u001B[39m \u001B[43mvalidate_model\u001B[49m\u001B[43m(\u001B[49m\u001B[43m__pydantic_self__\u001B[49m\u001B[38;5;241;43m.\u001B[39;49m\u001B[38;5;18;43m__class__\u001B[39;49m\u001B[43m,\u001B[49m\u001B[43m \u001B[49m\u001B[43mdata\u001B[49m\u001B[43m)\u001B[49m\n\u001B[1;32m    340\u001B[0m \u001B[38;5;28;01mif\u001B[39;00m validation_error:\n\u001B[1;32m    341\u001B[0m     \u001B[38;5;28;01mraise\u001B[39;00m validation_error\n",
      "File \u001B[0;32m~/UbuntuData/PycharmProjects/LangChainTiktok/.venv/lib/python3.10/site-packages/pydantic/v1/main.py:1064\u001B[0m, in \u001B[0;36mvalidate_model\u001B[0;34m(model, input_data, cls)\u001B[0m\n\u001B[1;32m   1061\u001B[0m     errors\u001B[38;5;241m.\u001B[39mappend(ErrorWrapper(MissingError(), loc\u001B[38;5;241m=\u001B[39mfield\u001B[38;5;241m.\u001B[39malias))\n\u001B[1;32m   1062\u001B[0m     \u001B[38;5;28;01mcontinue\u001B[39;00m\n\u001B[0;32m-> 1064\u001B[0m value \u001B[38;5;241m=\u001B[39m \u001B[43mfield\u001B[49m\u001B[38;5;241;43m.\u001B[39;49m\u001B[43mget_default\u001B[49m\u001B[43m(\u001B[49m\u001B[43m)\u001B[49m\n\u001B[1;32m   1066\u001B[0m \u001B[38;5;28;01mif\u001B[39;00m \u001B[38;5;129;01mnot\u001B[39;00m config\u001B[38;5;241m.\u001B[39mvalidate_all \u001B[38;5;129;01mand\u001B[39;00m \u001B[38;5;129;01mnot\u001B[39;00m field\u001B[38;5;241m.\u001B[39mvalidate_always:\n\u001B[1;32m   1067\u001B[0m     values[name] \u001B[38;5;241m=\u001B[39m value\n",
      "File \u001B[0;32m~/UbuntuData/PycharmProjects/LangChainTiktok/.venv/lib/python3.10/site-packages/pydantic/v1/fields.py:437\u001B[0m, in \u001B[0;36mModelField.get_default\u001B[0;34m(self)\u001B[0m\n\u001B[1;32m    436\u001B[0m \u001B[38;5;28;01mdef\u001B[39;00m \u001B[38;5;21mget_default\u001B[39m(\u001B[38;5;28mself\u001B[39m) \u001B[38;5;241m-\u001B[39m\u001B[38;5;241m>\u001B[39m Any:\n\u001B[0;32m--> 437\u001B[0m     \u001B[38;5;28;01mreturn\u001B[39;00m smart_deepcopy(\u001B[38;5;28mself\u001B[39m\u001B[38;5;241m.\u001B[39mdefault) \u001B[38;5;28;01mif\u001B[39;00m \u001B[38;5;28mself\u001B[39m\u001B[38;5;241m.\u001B[39mdefault_factory \u001B[38;5;129;01mis\u001B[39;00m \u001B[38;5;28;01mNone\u001B[39;00m \u001B[38;5;28;01melse\u001B[39;00m \u001B[38;5;28;43mself\u001B[39;49m\u001B[38;5;241;43m.\u001B[39;49m\u001B[43mdefault_factory\u001B[49m\u001B[43m(\u001B[49m\u001B[43m)\u001B[49m\n",
      "File \u001B[0;32m~/UbuntuData/PycharmProjects/LangChainTiktok/.venv/lib/python3.10/site-packages/langchain_core/language_models/llms.py:69\u001B[0m, in \u001B[0;36m_get_verbosity\u001B[0;34m()\u001B[0m\n\u001B[1;32m     66\u001B[0m \u001B[38;5;28;01mdef\u001B[39;00m \u001B[38;5;21m_get_verbosity\u001B[39m() \u001B[38;5;241m-\u001B[39m\u001B[38;5;241m>\u001B[39m \u001B[38;5;28mbool\u001B[39m:\n\u001B[1;32m     67\u001B[0m     \u001B[38;5;28;01mfrom\u001B[39;00m \u001B[38;5;21;01mlangchain_core\u001B[39;00m\u001B[38;5;21;01m.\u001B[39;00m\u001B[38;5;21;01mglobals\u001B[39;00m \u001B[38;5;28;01mimport\u001B[39;00m get_verbose\n\u001B[0;32m---> 69\u001B[0m     \u001B[38;5;28;01mreturn\u001B[39;00m \u001B[43mget_verbose\u001B[49m\u001B[43m(\u001B[49m\u001B[43m)\u001B[49m\n",
      "File \u001B[0;32m~/UbuntuData/PycharmProjects/LangChainTiktok/.venv/lib/python3.10/site-packages/langchain_core/globals/__init__.py:72\u001B[0m, in \u001B[0;36mget_verbose\u001B[0;34m()\u001B[0m\n\u001B[1;32m     55\u001B[0m         warnings\u001B[38;5;241m.\u001B[39mfilterwarnings(\n\u001B[1;32m     56\u001B[0m             \u001B[38;5;124m\"\u001B[39m\u001B[38;5;124mignore\u001B[39m\u001B[38;5;124m\"\u001B[39m,\n\u001B[1;32m     57\u001B[0m             message\u001B[38;5;241m=\u001B[39m(\n\u001B[1;32m     58\u001B[0m                 \u001B[38;5;124m\"\u001B[39m\u001B[38;5;124m.*Importing verbose from langchain root module is no longer supported\u001B[39m\u001B[38;5;124m\"\u001B[39m\n\u001B[1;32m     59\u001B[0m             ),\n\u001B[1;32m     60\u001B[0m         )\n\u001B[1;32m     61\u001B[0m         \u001B[38;5;66;03m# N.B.: This is a workaround for an unfortunate quirk of Python's\u001B[39;00m\n\u001B[1;32m     62\u001B[0m         \u001B[38;5;66;03m#       module-level `__getattr__()` implementation:\u001B[39;00m\n\u001B[1;32m     63\u001B[0m         \u001B[38;5;66;03m# https://github.com/langchain-ai/langchain/pull/11311#issuecomment-1743780004\u001B[39;00m\n\u001B[0;32m   (...)\u001B[0m\n\u001B[1;32m     70\u001B[0m         \u001B[38;5;66;03m# to using `set_verbose()` yet. Those users are getting deprecation warnings\u001B[39;00m\n\u001B[1;32m     71\u001B[0m         \u001B[38;5;66;03m# directing them to use `set_verbose()` when they import `langhchain.verbose`.\u001B[39;00m\n\u001B[0;32m---> 72\u001B[0m         old_verbose \u001B[38;5;241m=\u001B[39m \u001B[43mlangchain\u001B[49m\u001B[38;5;241;43m.\u001B[39;49m\u001B[43mverbose\u001B[49m\n\u001B[1;32m     73\u001B[0m \u001B[38;5;28;01mexcept\u001B[39;00m \u001B[38;5;167;01mImportError\u001B[39;00m:\n\u001B[1;32m     74\u001B[0m     old_verbose \u001B[38;5;241m=\u001B[39m \u001B[38;5;28;01mFalse\u001B[39;00m\n",
      "\u001B[0;31mAttributeError\u001B[0m: partially initialized module 'langchain' has no attribute 'verbose' (most likely due to a circular import)"
     ]
    }
   ],
   "source": [
    "ollama = Ollama(model=\"llama2\")"
   ],
   "metadata": {
    "collapsed": false,
    "ExecuteTime": {
     "end_time": "2024-03-19T17:21:29.173085Z",
     "start_time": "2024-03-19T17:21:29.106105Z"
    }
   },
   "id": "f841249644f0a3ce",
   "execution_count": 7
  },
  {
   "cell_type": "code",
   "outputs": [],
   "source": [],
   "metadata": {
    "collapsed": false
   },
   "id": "f156d72f5ec33f75"
  }
 ],
 "metadata": {
  "kernelspec": {
   "display_name": "Python 3",
   "language": "python",
   "name": "python3"
  },
  "language_info": {
   "codemirror_mode": {
    "name": "ipython",
    "version": 2
   },
   "file_extension": ".py",
   "mimetype": "text/x-python",
   "name": "python",
   "nbconvert_exporter": "python",
   "pygments_lexer": "ipython2",
   "version": "2.7.6"
  }
 },
 "nbformat": 4,
 "nbformat_minor": 5
}
